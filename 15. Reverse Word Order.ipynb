{
 "cells": [
  {
   "cell_type": "code",
   "execution_count": 19,
   "metadata": {},
   "outputs": [
    {
     "name": "stdout",
     "output_type": "stream",
     "text": [
      "Masukkan kalimat yang ingin anda balikkan \n",
      "saya dan kamu\n",
      "kamu dan saya\n"
     ]
    }
   ],
   "source": [
    "def get_string():\n",
    "    return str(input('Masukkan kalimat yang ingin anda balikkan \\n'))\n",
    "def reverse_name(ab):\n",
    "    cd = ab.split()\n",
    "    cd.reverse()\n",
    "    hasil_akhir = \" \".join(cd)\n",
    "    return hasil_akhir\n",
    "\n",
    "##Kodingan\n",
    "\n",
    "testing = get_string()\n",
    "print(reverse_name(testing))\n"
   ]
  }
 ],
 "metadata": {
  "kernelspec": {
   "display_name": "Python 3",
   "language": "python",
   "name": "python3"
  },
  "language_info": {
   "codemirror_mode": {
    "name": "ipython",
    "version": 3
   },
   "file_extension": ".py",
   "mimetype": "text/x-python",
   "name": "python",
   "nbconvert_exporter": "python",
   "pygments_lexer": "ipython3",
   "version": "3.7.1"
  }
 },
 "nbformat": 4,
 "nbformat_minor": 2
}
