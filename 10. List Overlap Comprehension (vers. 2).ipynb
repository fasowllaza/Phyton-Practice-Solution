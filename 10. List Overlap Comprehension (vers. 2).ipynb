{
 "cells": [
  {
   "cell_type": "code",
   "execution_count": 1,
   "metadata": {},
   "outputs": [
    {
     "name": "stdout",
     "output_type": "stream",
     "text": [
      "Masukkan nomor untuk dimasukkan dalam list 1, tulis 'no' jika anda selesai membuat list y\n",
      "Masukkan nomor untuk dimasukkan dalam list 1, tulis 'no' jika anda selesai membuat list y\n",
      "Masukkan nomor untuk dimasukkan dalam list 1, tulis 'no' jika anda selesai membuat list y\n",
      "Masukkan nomor untuk dimasukkan dalam list 1, tulis 'no' jika anda selesai membuat list y\n",
      "Masukkan nomor untuk dimasukkan dalam list 1, tulis 'no' jika anda selesai membuat list y\n",
      "Masukkan nomor untuk dimasukkan dalam list 1, tulis 'no' jika anda selesai membuat list y\n",
      "Masukkan nomor untuk dimasukkan dalam list 1, tulis 'no' jika anda selesai membuat list y\n",
      "Masukkan nomor untuk dimasukkan dalam list 1, tulis 'no' jika anda selesai membuat list y\n",
      "Masukkan nomor untuk dimasukkan dalam list 1, tulis 'no' jika anda selesai membuat list y\n",
      "Masukkan nomor untuk dimasukkan dalam list 1, tulis 'no' jika anda selesai membuat list y\n",
      "Masukkan nomor untuk dimasukkan dalam list 1, tulis 'no' jika anda selesai membuat list no\n",
      "Masukkan nomor untuk dimasukkan dalam list 2, tulis 'no' jika anda selesai membuat list y\n",
      "Masukkan nomor untuk dimasukkan dalam list 2, tulis 'no' jika anda selesai membuat list y\n",
      "Masukkan nomor untuk dimasukkan dalam list 2, tulis 'no' jika anda selesai membuat list y\n",
      "Masukkan nomor untuk dimasukkan dalam list 2, tulis 'no' jika anda selesai membuat list y\n",
      "Masukkan nomor untuk dimasukkan dalam list 2, tulis 'no' jika anda selesai membuat list y\n",
      "Masukkan nomor untuk dimasukkan dalam list 2, tulis 'no' jika anda selesai membuat list y\n",
      "Masukkan nomor untuk dimasukkan dalam list 2, tulis 'no' jika anda selesai membuat list y\n",
      "Masukkan nomor untuk dimasukkan dalam list 2, tulis 'no' jika anda selesai membuat list y\n",
      "Masukkan nomor untuk dimasukkan dalam list 2, tulis 'no' jika anda selesai membuat list no\n",
      "[3, 4, 4, 2, 2]\n"
     ]
    }
   ],
   "source": [
    "import random\n",
    "list01 = []\n",
    "list02 = []\n",
    "list03 = []\n",
    "boolean = True\n",
    "#Input 1\n",
    "while boolean:\n",
    "    ab = input('Masukkan nomor untuk dimasukkan dalam list 1, tulis \\'no\\' jika anda selesai membuat list ')\n",
    "    if str(ab) == 'no':\n",
    "        boolean = False\n",
    "    else:\n",
    "         list01.append(random.randint(1,9))\n",
    "#Input 2\n",
    "boolean = True\n",
    "while boolean:\n",
    "    ab = input('Masukkan nomor untuk dimasukkan dalam list 2, tulis \\'no\\' jika anda selesai membuat list ')\n",
    "    if str(ab) == 'no':\n",
    "        boolean = False\n",
    "    else:\n",
    "       list02.append(random.randint(1,9))\n",
    "#Checking each list\n",
    "for element01 in list01:\n",
    "    for element02 in list02:\n",
    "        if element01 == element02:\n",
    "            list03.append(element01)\n",
    "print(list03)"
   ]
  },
  {
   "cell_type": "code",
   "execution_count": 1,
   "metadata": {},
   "outputs": [
    {
     "name": "stdout",
     "output_type": "stream",
     "text": [
      "Masukkan nomor untuk dimasukkan dalam list 1, tulis 'no' jika anda selesai membuat list y\n",
      "Masukkan nomor untuk dimasukkan dalam list 1, tulis 'no' jika anda selesai membuat list y\n",
      "Masukkan nomor untuk dimasukkan dalam list 1, tulis 'no' jika anda selesai membuat list y\n",
      "Masukkan nomor untuk dimasukkan dalam list 1, tulis 'no' jika anda selesai membuat list no\n"
     ]
    }
   ],
   "source": [
    "import random\n",
    "list01 = []\n",
    "boolean = True\n",
    "while boolean:\n",
    "    ab = input('Masukkan nomor untuk dimasukkan dalam list 1, tulis \\'no\\' jika anda selesai membuat list ')\n",
    "    if str(ab) == 'no':\n",
    "        boolean = False\n",
    "    else:\n",
    "        list01.append(random.randint(1,9))"
   ]
  },
  {
   "cell_type": "code",
   "execution_count": null,
   "metadata": {},
   "outputs": [],
   "source": []
  }
 ],
 "metadata": {
  "kernelspec": {
   "display_name": "Python 3",
   "language": "python",
   "name": "python3"
  },
  "language_info": {
   "codemirror_mode": {
    "name": "ipython",
    "version": 3
   },
   "file_extension": ".py",
   "mimetype": "text/x-python",
   "name": "python",
   "nbconvert_exporter": "python",
   "pygments_lexer": "ipython3",
   "version": "3.7.1"
  }
 },
 "nbformat": 4,
 "nbformat_minor": 2
}
