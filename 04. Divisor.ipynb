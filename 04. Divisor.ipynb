{
 "cells": [
  {
   "cell_type": "code",
   "execution_count": null,
   "metadata": {},
   "outputs": [],
   "source": [
    "#Input a number\n",
    "number = int(input('Please input a number : '))\n",
    "#Blank List\n",
    "divisor_list = []\n",
    "#All number that available for divisor\n",
    "divisor = range(1,number)\n",
    "for element in divisor:\n",
    "    if element == 1:\n",
    "        divisor_list.append(element)\n",
    "    elif number%element == 0:\n",
    "        divisor_list.append(element)\n",
    "#Adding number\n",
    "divisor_list.append(number)\n",
    "print (divisor_list)"
   ]
  },
  {
   "cell_type": "code",
   "execution_count": null,
   "metadata": {},
   "outputs": [],
   "source": []
  }
 ],
 "metadata": {
  "kernelspec": {
   "display_name": "Python 3",
   "language": "python",
   "name": "python3"
  },
  "language_info": {
   "codemirror_mode": {
    "name": "ipython",
    "version": 3
   },
   "file_extension": ".py",
   "mimetype": "text/x-python",
   "name": "python",
   "nbconvert_exporter": "python",
   "pygments_lexer": "ipython3",
   "version": "3.7.1"
  }
 },
 "nbformat": 4,
 "nbformat_minor": 2
}
