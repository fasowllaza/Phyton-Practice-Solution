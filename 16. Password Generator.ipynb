{
 "cells": [
  {
   "cell_type": "code",
   "execution_count": 24,
   "metadata": {},
   "outputs": [
    {
     "name": "stdout",
     "output_type": "stream",
     "text": [
      "Seberapa kuat password yang anda inginkan? \n",
      " 1. Lemah \n",
      " 2. Sedang \n",
      " 3. Kuat \n",
      " 4. Sangat kuat \n",
      "1\n",
      "Berapa panjang kata yang anda inginkan? \n",
      "10\n",
      "zhejjlprzs\n"
     ]
    }
   ],
   "source": [
    "import random\n",
    "import string\n",
    "\n",
    "#Input feedback for panjang kata\n",
    "def get_length():\n",
    "    ab = int(input('Berapa panjang kata yang anda inginkan? \\n'))\n",
    "    return ab\n",
    "#Input feedback for password strength\n",
    "def get_feedback():\n",
    "    ab = int(input('Seberapa kuat password yang anda inginkan? \\n 1. Lemah \\n 2. Sedang \\n 3. Kuat \\n 4. Sangat kuat \\n'))\n",
    "    return ab\n",
    "#Choosing password level\n",
    "def get_random_password(x,y):\n",
    "    if x == 1:\n",
    "        return pass_level1(x,y)\n",
    "    elif x == 2:\n",
    "        return pass_level2(x,y)\n",
    "    elif x == 3:\n",
    "        return pass_level3(x,y)\n",
    "    elif x == 4:\n",
    "        return pass_level4(x,y)\n",
    "#Password level 1\n",
    "def pass_level1(x,y):\n",
    "    letters = string.ascii_lowercase\n",
    "    return ''.join(random.choice(letters) for i in range(y))\n",
    "def pass_level2(x,y):\n",
    "    letters = string.ascii_lowercase + string.ascii_uppercase\n",
    "    return ''.join(random.choice(letters) for i in range(y))\n",
    "def pass_level3 (x,y):\n",
    "    letters = string.ascii_lowercase + string.digits\n",
    "    return ''.join(random.choice(letters) for i in range(y))\n",
    "def pass_level4 (x,y):\n",
    "    letters = string.ascii_lowercase + string.digits + string.ascii_uppercase\n",
    "    return ''.join(random.choice(letters) for i in range (y))\n",
    "    \n",
    "#Program\n",
    "a = get_feedback()\n",
    "b = get_length()\n",
    "ab = get_random_password(a,b)\n",
    "print(ab)"
   ]
  }
 ],
 "metadata": {
  "kernelspec": {
   "display_name": "Python 3",
   "language": "python",
   "name": "python3"
  },
  "language_info": {
   "codemirror_mode": {
    "name": "ipython",
    "version": 3
   },
   "file_extension": ".py",
   "mimetype": "text/x-python",
   "name": "python",
   "nbconvert_exporter": "python",
   "pygments_lexer": "ipython3",
   "version": "3.7.1"
  }
 },
 "nbformat": 4,
 "nbformat_minor": 2
}
