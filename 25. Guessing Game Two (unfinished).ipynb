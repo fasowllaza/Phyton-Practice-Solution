{
 "cells": [
  {
   "cell_type": "code",
   "execution_count": 1,
   "metadata": {},
   "outputs": [],
   "source": [
    "#True = Upper\n",
    "#False = Lower\n",
    "#ab = origin\n",
    "#cd = max numebr"
   ]
  },
  {
   "cell_type": "code",
   "execution_count": 2,
   "metadata": {},
   "outputs": [
    {
     "ename": "IndentationError",
     "evalue": "expected an indented block (<ipython-input-2-94394108eb4f>, line 21)",
     "output_type": "error",
     "traceback": [
      "\u001b[1;36m  File \u001b[1;32m\"<ipython-input-2-94394108eb4f>\"\u001b[1;36m, line \u001b[1;32m21\u001b[0m\n\u001b[1;33m    elif ami_right == \"N\":\u001b[0m\n\u001b[1;37m       ^\u001b[0m\n\u001b[1;31mIndentationError\u001b[0m\u001b[1;31m:\u001b[0m expected an indented block\n"
     ]
    }
   ],
   "source": [
    "import random\n",
    "\n",
    "\n",
    "def split_number(ab,cd):\n",
    "    guessed_number = random.randint(ab,cd)\n",
    "    print(guessed_number)\n",
    "\n",
    "def main():\n",
    "    iteration = True\n",
    "    while iteration:\n",
    "        input_newgame = str(input(\"do you want to play a guessing game? \\\"Y\\\"or\\\"N\\\"\"))\n",
    "        if input_newgame == \"Y\": \n",
    "            iteration_answer()\n",
    "        elif input_newgame == \"N\":\n",
    "            break\n",
    "def iteration_answer():\n",
    "    number = int(50)\n",
    "    while True:\n",
    "        print(number)\n",
    "        ami_right = str(input(\"Is it the right number? k untuk lebih kecil, b untuk lebih besar, y untuk benar\"))\n",
    "        if ami_right == 'K':\n",
    "            number=number/2\n",
    "        elif ami_right == \"B\":\n",
    "            \n",
    "        elif ami_right == \"Y\":\n",
    "            break\n",
    "            \n",
    "    \n",
    "if __name__ == \"__main__\":\n",
    "    main()\n",
    "    "
   ]
  },
  {
   "cell_type": "code",
   "execution_count": 17,
   "metadata": {},
   "outputs": [
    {
     "ename": "IndentationError",
     "evalue": "expected an indented block (<ipython-input-17-831426441855>, line 5)",
     "output_type": "error",
     "traceback": [
      "\u001b[1;36m  File \u001b[1;32m\"<ipython-input-17-831426441855>\"\u001b[1;36m, line \u001b[1;32m5\u001b[0m\n\u001b[1;33m    else:\u001b[0m\n\u001b[1;37m       ^\u001b[0m\n\u001b[1;31mIndentationError\u001b[0m\u001b[1;31m:\u001b[0m expected an indented block\n"
     ]
    }
   ],
   "source": [
    "iteration = True\n",
    "while iteration:\n",
    "   input_newgame = str(input(\"do you want to play a guessing game? \\\"Y\\\"or\\\"N\\\"\"))\n",
    "   if input_newgame == \"Y\": \n",
    "   else:\n",
    "       iteration = False"
   ]
  },
  {
   "cell_type": "code",
   "execution_count": 19,
   "metadata": {},
   "outputs": [
    {
     "name": "stdout",
     "output_type": "stream",
     "text": [
      "cd\n"
     ]
    }
   ],
   "source": [
    "a = 1\n",
    "b = 2\n",
    "if a == b:\n",
    "    print('ab')\n",
    "else:\n",
    "    print(\"cd\")"
   ]
  },
  {
   "cell_type": "code",
   "execution_count": 4,
   "metadata": {},
   "outputs": [
    {
     "name": "stdout",
     "output_type": "stream",
     "text": [
      "12\n"
     ]
    }
   ],
   "source": [
    "ab = int(25/2)\n",
    "print(ab)"
   ]
  },
  {
   "cell_type": "code",
   "execution_count": null,
   "metadata": {},
   "outputs": [],
   "source": []
  }
 ],
 "metadata": {
  "kernelspec": {
   "display_name": "Python 3",
   "language": "python",
   "name": "python3"
  },
  "language_info": {
   "codemirror_mode": {
    "name": "ipython",
    "version": 3
   },
   "file_extension": ".py",
   "mimetype": "text/x-python",
   "name": "python",
   "nbconvert_exporter": "python",
   "pygments_lexer": "ipython3",
   "version": "3.7.1"
  }
 },
 "nbformat": 4,
 "nbformat_minor": 2
}
