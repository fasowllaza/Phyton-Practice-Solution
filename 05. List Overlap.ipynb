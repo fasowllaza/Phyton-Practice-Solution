{
 "cells": [
  {
   "cell_type": "code",
   "execution_count": null,
   "metadata": {},
   "outputs": [],
   "source": [
    "list01 = []\n",
    "list02 = []\n",
    "list03 = []\n",
    "boolean = True\n",
    "#Input untuk list 01\n",
    "while boolean:\n",
    "    b = input('Masukkan angka untuk menambah list pertama, tulis tidak jika selesai: ')\n",
    "    if str(b) == 'tidak':\n",
    "        boolean = False\n",
    "    else: \n",
    "        list01.append(int(b))\n",
    "#Input untuk list 02\n",
    "boolean = True\n",
    "while boolean:\n",
    "    b = input('Masukkan angka untuk menambah list kedua, tulis tidak jika selesai: ')\n",
    "    if str(b) == 'tidak':\n",
    "        boolean = False\n",
    "    else: \n",
    "        list02.append(int(b))\n",
    "#Untuk mengecek kedua list dan menambahkan nilai ke list ketiga\n",
    "for element01 in list01:\n",
    "    for element02 in list02:\n",
    "        if element01 == element02:\n",
    "            list03.append(element01)\n",
    "print (list03)"
   ]
  }
 ],
 "metadata": {
  "kernelspec": {
   "display_name": "Python 3",
   "language": "python",
   "name": "python3"
  },
  "language_info": {
   "codemirror_mode": {
    "name": "ipython",
    "version": 3
   },
   "file_extension": ".py",
   "mimetype": "text/x-python",
   "name": "python",
   "nbconvert_exporter": "python",
   "pygments_lexer": "ipython3",
   "version": "3.7.1"
  }
 },
 "nbformat": 4,
 "nbformat_minor": 2
}
