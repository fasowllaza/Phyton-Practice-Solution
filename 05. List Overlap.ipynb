{
 "cells": [
  {
   "cell_type": "code",
   "execution_count": 18,
   "metadata": {},
   "outputs": [
    {
     "name": "stdout",
     "output_type": "stream",
     "text": [
      "Masukkan angka untuk menambah list pertama, tulis tidak jika selesai: 1\n",
      "Masukkan angka untuk menambah list pertama, tulis tidak jika selesai: 2\n",
      "Masukkan angka untuk menambah list pertama, tulis tidak jika selesai: 3\n",
      "Masukkan angka untuk menambah list pertama, tulis tidak jika selesai: 4\n",
      "Masukkan angka untuk menambah list pertama, tulis tidak jika selesai: 5\n",
      "Masukkan angka untuk menambah list pertama, tulis tidak jika selesai: 6\n",
      "Masukkan angka untuk menambah list pertama, tulis tidak jika selesai: 7\n",
      "Masukkan angka untuk menambah list pertama, tulis tidak jika selesai: tidak\n",
      "Masukkan angka untuk menambah list kedua, tulis tidak jika selesai: 1\n",
      "Masukkan angka untuk menambah list kedua, tulis tidak jika selesai: 3\n",
      "Masukkan angka untuk menambah list kedua, tulis tidak jika selesai: 7\n",
      "Masukkan angka untuk menambah list kedua, tulis tidak jika selesai: tidak\n",
      "[1, 3, 7]\n"
     ]
    }
   ],
   "source": [
    "list01 = []\n",
    "list02 = []\n",
    "list03 = []\n",
    "boolean = True\n",
    "#Input untuk list 01\n",
    "while boolean:\n",
    "    b = input('Masukkan angka untuk menambah list pertama, tulis tidak jika selesai: ')\n",
    "    if str(b) == 'tidak':\n",
    "        boolean = False\n",
    "    else: \n",
    "        list01.append(int(b))\n",
    "#Input untuk list 02\n",
    "boolean = True\n",
    "while boolean:\n",
    "    b = input('Masukkan angka untuk menambah list kedua, tulis tidak jika selesai: ')\n",
    "    if str(b) == 'tidak':\n",
    "        boolean = False\n",
    "    else: \n",
    "        list02.append(int(b))\n",
    "#Untuk mengecek kedua list dan menambahkan nilai ke list ketiga\n",
    "for element01 in list01:\n",
    "    for element02 in list02:\n",
    "        if element01 == element02:\n",
    "            list03.append(element01)\n",
    "print (list03)"
   ]
  },
  {
   "cell_type": "code",
   "execution_count": 9,
   "metadata": {},
   "outputs": [
    {
     "name": "stdout",
     "output_type": "stream",
     "text": [
      "benar\n"
     ]
    }
   ],
   "source": [
    "a = 'tidak'\n",
    "if a == 'tidak':\n",
    "    print(\"benar\")"
   ]
  },
  {
   "cell_type": "code",
   "execution_count": null,
   "metadata": {},
   "outputs": [],
   "source": []
  }
 ],
 "metadata": {
  "kernelspec": {
   "display_name": "Python 3",
   "language": "python",
   "name": "python3"
  },
  "language_info": {
   "codemirror_mode": {
    "name": "ipython",
    "version": 3
   },
   "file_extension": ".py",
   "mimetype": "text/x-python",
   "name": "python",
   "nbconvert_exporter": "python",
   "pygments_lexer": "ipython3",
   "version": "3.7.1"
  }
 },
 "nbformat": 4,
 "nbformat_minor": 2
}
