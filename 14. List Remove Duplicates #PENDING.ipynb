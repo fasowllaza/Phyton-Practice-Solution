{
 "cells": [
  {
   "cell_type": "code",
   "execution_count": 2,
   "metadata": {},
   "outputs": [
    {
     "name": "stdout",
     "output_type": "stream",
     "text": [
      "{1, 2, 3, 4, 5, 6, 7, 8, 10, 11, 13}\n"
     ]
    }
   ],
   "source": [
    "def remove_duplicate(ab):\n",
    "    ab=set(ab)\n",
    "    print(ab)    "
   ]
  },
  {
   "cell_type": "code",
   "execution_count": null,
   "metadata": {},
   "outputs": [],
   "source": [
    "list_input = [1,1,2,3,4,1,4,5,6,7]\n",
    "list_output = []\n",
    "for element01 in list_input:\n",
    "    if list_output == []:\n",
    "        list_output.append(element01)\n",
    "    else:\n",
    "        for element03 in list_output:\n",
    "            if element03 == element01:\n",
    "                break\n",
    "            for element02 in list_input\n",
    "        \n"
   ]
  },
  {
   "cell_type": "code",
   "execution_count": null,
   "metadata": {},
   "outputs": [],
   "source": []
  },
  {
   "cell_type": "code",
   "execution_count": null,
   "metadata": {},
   "outputs": [],
   "source": []
  }
 ],
 "metadata": {
  "kernelspec": {
   "display_name": "Python 3",
   "language": "python",
   "name": "python3"
  },
  "language_info": {
   "codemirror_mode": {
    "name": "ipython",
    "version": 3
   },
   "file_extension": ".py",
   "mimetype": "text/x-python",
   "name": "python",
   "nbconvert_exporter": "python",
   "pygments_lexer": "ipython3",
   "version": "3.7.1"
  }
 },
 "nbformat": 4,
 "nbformat_minor": 2
}
