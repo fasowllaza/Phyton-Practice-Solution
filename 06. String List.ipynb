{
 "cells": [
  {
   "cell_type": "code",
   "execution_count": null,
   "metadata": {},
   "outputs": [],
   "source": [
    "word=input(\"Please enter a word\")\n",
    "word=str(word)\n",
    "#reverse word \"::-1\"\n",
    "#::-1 \n",
    "#:-1 satu huruf dari belakang\n",
    "#::-1 dari paling belakang hingga paling awal hitung mundur\n",
    "reverse=word[::-1]\n",
    "print(reverse)\n",
    "if word == reverse:\n",
    "    print('This word is a palindrome')\n",
    "else:\n",
    "    print('This word is not a palindrome')"
   ]
  },
  {
   "cell_type": "code",
   "execution_count": null,
   "metadata": {},
   "outputs": [],
   "source": []
  }
 ],
 "metadata": {
  "kernelspec": {
   "display_name": "Python 3",
   "language": "python",
   "name": "python3"
  },
  "language_info": {
   "codemirror_mode": {
    "name": "ipython",
    "version": 3
   },
   "file_extension": ".py",
   "mimetype": "text/x-python",
   "name": "python",
   "nbconvert_exporter": "python",
   "pygments_lexer": "ipython3",
   "version": "3.7.1"
  }
 },
 "nbformat": 4,
 "nbformat_minor": 2
}
