{
 "cells": [
  {
   "cell_type": "code",
   "execution_count": null,
   "metadata": {},
   "outputs": [],
   "source": [
    "#Asking Name\n",
    "name = input (\"Give me your name: \")\n",
    "#Asking Age\n",
    "age = int(input(\"Enter your age: \"))\n",
    "#Asking How many lines you're going to print\n",
    "lines = int(input(\"How many times this message going to be printed? \"))\n",
    "kalimat = str('Hi '+ name + ' you are going to be 100 years at ' + str(2019+100-age)+'\\n')\n",
    "#Print how many lines\n",
    "print (lines * kalimat)"
   ]
  }
 ],
 "metadata": {
  "kernelspec": {
   "display_name": "Python 3",
   "language": "python",
   "name": "python3"
  },
  "language_info": {
   "codemirror_mode": {
    "name": "ipython",
    "version": 3
   },
   "file_extension": ".py",
   "mimetype": "text/x-python",
   "name": "python",
   "nbconvert_exporter": "python",
   "pygments_lexer": "ipython3",
   "version": "3.7.1"
  }
 },
 "nbformat": 4,
 "nbformat_minor": 2
}
