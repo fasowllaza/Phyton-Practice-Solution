{
 "cells": [
  {
   "cell_type": "code",
   "execution_count": 1,
   "metadata": {},
   "outputs": [
    {
     "ename": "TypeError",
     "evalue": "write() takes exactly one argument (0 given)",
     "output_type": "error",
     "traceback": [
      "\u001b[1;31m---------------------------------------------------------------------------\u001b[0m",
      "\u001b[1;31mTypeError\u001b[0m                                 Traceback (most recent call last)",
      "\u001b[1;32m<ipython-input-1-d1d1a65d2a2e>\u001b[0m in \u001b[0;36m<module>\u001b[1;34m\u001b[0m\n\u001b[0;32m      1\u001b[0m \u001b[1;32mwith\u001b[0m \u001b[0mopen\u001b[0m \u001b[1;33m(\u001b[0m\u001b[1;34m'exam.txt'\u001b[0m\u001b[1;33m,\u001b[0m \u001b[1;34m'w'\u001b[0m\u001b[1;33m)\u001b[0m \u001b[1;32mas\u001b[0m \u001b[0mexam_lines\u001b[0m\u001b[1;33m:\u001b[0m\u001b[1;33m\u001b[0m\u001b[1;33m\u001b[0m\u001b[0m\n\u001b[1;32m----> 2\u001b[1;33m     \u001b[0mexam_lines\u001b[0m\u001b[1;33m.\u001b[0m\u001b[0mwrite\u001b[0m\u001b[1;33m(\u001b[0m\u001b[1;33m)\u001b[0m\u001b[1;33m\u001b[0m\u001b[1;33m\u001b[0m\u001b[0m\n\u001b[0m",
      "\u001b[1;31mTypeError\u001b[0m: write() takes exactly one argument (0 given)"
     ]
    }
   ],
   "source": [
    "with open ('exam.txt', 'w') as exam_lines:\n",
    "    exam_lines.write()"
   ]
  },
  {
   "cell_type": "code",
   "execution_count": 2,
   "metadata": {},
   "outputs": [],
   "source": [
    "with open ('exam.txt', 'w') as exam_lines:\n",
    "    exam_lines.write('aa')"
   ]
  },
  {
   "cell_type": "code",
   "execution_count": 3,
   "metadata": {},
   "outputs": [
    {
     "name": "stdout",
     "output_type": "stream",
     "text": [
      "Audi\n",
      "BMW\n",
      "Subaru\n",
      "Toyoya\n"
     ]
    }
   ],
   "source": [
    "cars = ['audi','bmw','subaru','toyoya']\n",
    "for car in cars:\n",
    "    if car =='bmw':\n",
    "        print(car.upper())\n",
    "    else:\n",
    "        print(car.title())"
   ]
  },
  {
   "cell_type": "code",
   "execution_count": 4,
   "metadata": {},
   "outputs": [
    {
     "name": "stdout",
     "output_type": "stream",
     "text": [
      "Give me your name: faza\n"
     ]
    },
    {
     "ename": "NameError",
     "evalue": "name 'prinnt' is not defined",
     "output_type": "error",
     "traceback": [
      "\u001b[1;31m---------------------------------------------------------------------------\u001b[0m",
      "\u001b[1;31mNameError\u001b[0m                                 Traceback (most recent call last)",
      "\u001b[1;32m<ipython-input-4-fa940b63d671>\u001b[0m in \u001b[0;36m<module>\u001b[1;34m\u001b[0m\n\u001b[0;32m      1\u001b[0m \u001b[0mname\u001b[0m \u001b[1;33m=\u001b[0m \u001b[0minput\u001b[0m\u001b[1;33m(\u001b[0m\u001b[1;34m\"Give me your name: \"\u001b[0m\u001b[1;33m)\u001b[0m\u001b[1;33m\u001b[0m\u001b[1;33m\u001b[0m\u001b[0m\n\u001b[1;32m----> 2\u001b[1;33m \u001b[0mprinnt\u001b[0m\u001b[1;33m(\u001b[0m\u001b[1;34m\"Your name is\"\u001b[0m \u001b[1;33m+\u001b[0m \u001b[0mname\u001b[0m\u001b[1;33m)\u001b[0m\u001b[1;33m\u001b[0m\u001b[1;33m\u001b[0m\u001b[0m\n\u001b[0m",
      "\u001b[1;31mNameError\u001b[0m: name 'prinnt' is not defined"
     ]
    }
   ],
   "source": [
    "name = input(\"Give me your name: \")\n",
    "prinnt(\"Your name is\" + name)"
   ]
  },
  {
   "cell_type": "code",
   "execution_count": 5,
   "metadata": {},
   "outputs": [
    {
     "name": "stdout",
     "output_type": "stream",
     "text": [
      "give me your name: faza\n",
      "your name isfaza\n"
     ]
    }
   ],
   "source": [
    "name = input ('give me your name: ')\n",
    "print ('your name is'+ name)"
   ]
  },
  {
   "cell_type": "code",
   "execution_count": 6,
   "metadata": {},
   "outputs": [
    {
     "name": "stdout",
     "output_type": "stream",
     "text": [
      "Enter your age: 27\n"
     ]
    }
   ],
   "source": [
    "age = input(\"Enter your age: \")\n",
    "age = int(age)"
   ]
  },
  {
   "cell_type": "code",
   "execution_count": 7,
   "metadata": {},
   "outputs": [
    {
     "name": "stdout",
     "output_type": "stream",
     "text": [
      "Give me your name: Faza\n",
      "Enter your age: 24\n"
     ]
    },
    {
     "ename": "TypeError",
     "evalue": "can only concatenate str (not \"int\") to str",
     "output_type": "error",
     "traceback": [
      "\u001b[1;31m---------------------------------------------------------------------------\u001b[0m",
      "\u001b[1;31mTypeError\u001b[0m                                 Traceback (most recent call last)",
      "\u001b[1;32m<ipython-input-7-14b2609d7623>\u001b[0m in \u001b[0;36m<module>\u001b[1;34m\u001b[0m\n\u001b[0;32m      2\u001b[0m \u001b[0mage\u001b[0m \u001b[1;33m=\u001b[0m \u001b[0mint\u001b[0m\u001b[1;33m(\u001b[0m\u001b[0minput\u001b[0m\u001b[1;33m(\u001b[0m\u001b[1;34m\"Enter your age: \"\u001b[0m\u001b[1;33m)\u001b[0m\u001b[1;33m)\u001b[0m\u001b[1;33m\u001b[0m\u001b[1;33m\u001b[0m\u001b[0m\n\u001b[0;32m      3\u001b[0m \u001b[0mumur\u001b[0m \u001b[1;33m=\u001b[0m \u001b[1;36m2019\u001b[0m\u001b[1;33m+\u001b[0m\u001b[1;36m100\u001b[0m\u001b[1;33m-\u001b[0m\u001b[0mage\u001b[0m\u001b[1;33m\u001b[0m\u001b[1;33m\u001b[0m\u001b[0m\n\u001b[1;32m----> 4\u001b[1;33m \u001b[0mprint\u001b[0m \u001b[1;33m(\u001b[0m\u001b[1;34m'Hi '\u001b[0m\u001b[1;33m+\u001b[0m \u001b[0mname\u001b[0m \u001b[1;33m+\u001b[0m \u001b[1;34m'you are going to be 100 years at'\u001b[0m \u001b[1;33m+\u001b[0m \u001b[0mumur\u001b[0m\u001b[1;33m)\u001b[0m\u001b[1;33m\u001b[0m\u001b[1;33m\u001b[0m\u001b[0m\n\u001b[0m",
      "\u001b[1;31mTypeError\u001b[0m: can only concatenate str (not \"int\") to str"
     ]
    }
   ],
   "source": [
    "name = input (\"Give me your name: \")\n",
    "age = int(input(\"Enter your age: \"))\n",
    "umur = 2019+100-age\n",
    "print ('Hi '+ name + 'you are going to be 100 years at' + umur)\n"
   ]
  },
  {
   "cell_type": "code",
   "execution_count": 9,
   "metadata": {},
   "outputs": [
    {
     "name": "stdout",
     "output_type": "stream",
     "text": [
      "Give me your name: Faza\n",
      "Enter your age: 27\n",
      "How many times this message going to be printed?10\n",
      "Hi Faza you are going to be 100 years at 2092Hi Faza you are going to be 100 years at 2092Hi Faza you are going to be 100 years at 2092Hi Faza you are going to be 100 years at 2092Hi Faza you are going to be 100 years at 2092Hi Faza you are going to be 100 years at 2092Hi Faza you are going to be 100 years at 2092Hi Faza you are going to be 100 years at 2092Hi Faza you are going to be 100 years at 2092Hi Faza you are going to be 100 years at 2092\n"
     ]
    }
   ],
   "source": [
    "name = input (\"Give me your name: \")\n",
    "age = int(input(\"Enter your age: \"))\n",
    "lines = int(input(\"How many times this message going to be printed?\"))\n",
    "umur = 2019+100-age\n",
    "kalimat = str('Hi '+ name + ' you are going to be 100 years at ' + str(umur)/n)\n",
    "print (lines * kalimat)\n"
   ]
  },
  {
   "cell_type": "code",
   "execution_count": 10,
   "metadata": {},
   "outputs": [
    {
     "name": "stdout",
     "output_type": "stream",
     "text": [
      "Give me your name: Faza\n",
      "Enter your age: 27\n",
      "How many times this message going to be printed?10\n"
     ]
    },
    {
     "ename": "NameError",
     "evalue": "name 'n' is not defined",
     "output_type": "error",
     "traceback": [
      "\u001b[1;31m---------------------------------------------------------------------------\u001b[0m",
      "\u001b[1;31mNameError\u001b[0m                                 Traceback (most recent call last)",
      "\u001b[1;32m<ipython-input-10-ee5d001926ef>\u001b[0m in \u001b[0;36m<module>\u001b[1;34m\u001b[0m\n\u001b[0;32m      3\u001b[0m \u001b[0mlines\u001b[0m \u001b[1;33m=\u001b[0m \u001b[0mint\u001b[0m\u001b[1;33m(\u001b[0m\u001b[0minput\u001b[0m\u001b[1;33m(\u001b[0m\u001b[1;34m\"How many times this message going to be printed?\"\u001b[0m\u001b[1;33m)\u001b[0m\u001b[1;33m)\u001b[0m\u001b[1;33m\u001b[0m\u001b[1;33m\u001b[0m\u001b[0m\n\u001b[0;32m      4\u001b[0m \u001b[0mumur\u001b[0m \u001b[1;33m=\u001b[0m \u001b[1;36m2019\u001b[0m\u001b[1;33m+\u001b[0m\u001b[1;36m100\u001b[0m\u001b[1;33m-\u001b[0m\u001b[0mage\u001b[0m\u001b[1;33m\u001b[0m\u001b[1;33m\u001b[0m\u001b[0m\n\u001b[1;32m----> 5\u001b[1;33m \u001b[0mkalimat\u001b[0m \u001b[1;33m=\u001b[0m \u001b[0mstr\u001b[0m\u001b[1;33m(\u001b[0m\u001b[1;34m'Hi '\u001b[0m\u001b[1;33m+\u001b[0m \u001b[0mname\u001b[0m \u001b[1;33m+\u001b[0m \u001b[1;34m' you are going to be 100 years at '\u001b[0m \u001b[1;33m+\u001b[0m \u001b[0mstr\u001b[0m\u001b[1;33m(\u001b[0m\u001b[0mumur\u001b[0m\u001b[1;33m)\u001b[0m\u001b[1;33m/\u001b[0m\u001b[0mn\u001b[0m\u001b[1;33m)\u001b[0m\u001b[1;33m\u001b[0m\u001b[1;33m\u001b[0m\u001b[0m\n\u001b[0m\u001b[0;32m      6\u001b[0m \u001b[0mprint\u001b[0m \u001b[1;33m(\u001b[0m\u001b[0mlines\u001b[0m \u001b[1;33m*\u001b[0m \u001b[0mkalimat\u001b[0m\u001b[1;33m)\u001b[0m\u001b[1;33m\u001b[0m\u001b[1;33m\u001b[0m\u001b[0m\n",
      "\u001b[1;31mNameError\u001b[0m: name 'n' is not defined"
     ]
    }
   ],
   "source": [
    "name = input (\"Give me your name: \")\n",
    "age = int(input(\"Enter your age: \"))\n",
    "lines = int(input(\"How many times this message going to be printed?\"))\n",
    "umur = 2019+100-age\n",
    "kalimat = str('Hi '+ name + ' you are going to be 100 years at ' + str(umur)\\n)\n",
    "print (lines * kalimat)\n"
   ]
  },
  {
   "cell_type": "code",
   "execution_count": 11,
   "metadata": {},
   "outputs": [
    {
     "ename": "SyntaxError",
     "evalue": "unexpected character after line continuation character (<ipython-input-11-fe88eea63e22>, line 5)",
     "output_type": "error",
     "traceback": [
      "\u001b[1;36m  File \u001b[1;32m\"<ipython-input-11-fe88eea63e22>\"\u001b[1;36m, line \u001b[1;32m5\u001b[0m\n\u001b[1;33m    kalimat = str('Hi '+ name + ' you are going to be 100 years at ' + str(umur)\\n)\u001b[0m\n\u001b[1;37m                                                                                   ^\u001b[0m\n\u001b[1;31mSyntaxError\u001b[0m\u001b[1;31m:\u001b[0m unexpected character after line continuation character\n"
     ]
    }
   ],
   "source": [
    "name = input (\"Give me your name: \")\n",
    "age = int(input(\"Enter your age: \"))\n",
    "lines = int(input(\"How many times this message going to be printed?\"))\n",
    "umur = 2019+100-age\n",
    "kalimat = str('Hi '+ name + ' you are going to be 100 years at ' + str(umur)\\n)\n",
    "print (lines * kalimat)\n"
   ]
  },
  {
   "cell_type": "code",
   "execution_count": 12,
   "metadata": {},
   "outputs": [
    {
     "ename": "SyntaxError",
     "evalue": "unexpected character after line continuation character (<ipython-input-12-01dc8abbadd8>, line 5)",
     "output_type": "error",
     "traceback": [
      "\u001b[1;36m  File \u001b[1;32m\"<ipython-input-12-01dc8abbadd8>\"\u001b[1;36m, line \u001b[1;32m5\u001b[0m\n\u001b[1;33m    kalimat = str('Hi '+ name + ' you are going to be 100 years at ' + str(umur)+''\\n')\u001b[0m\n\u001b[1;37m                                                                                       ^\u001b[0m\n\u001b[1;31mSyntaxError\u001b[0m\u001b[1;31m:\u001b[0m unexpected character after line continuation character\n"
     ]
    }
   ],
   "source": [
    "name = input (\"Give me your name: \")\n",
    "age = int(input(\"Enter your age: \"))\n",
    "lines = int(input(\"How many times this message going to be printed?\"))\n",
    "umur = 2019+100-age\n",
    "kalimat = str('Hi '+ name + ' you are going to be 100 years at ' + str(umur)+''\\n')\n",
    "print (lines * kalimat)\n"
   ]
  },
  {
   "cell_type": "code",
   "execution_count": 13,
   "metadata": {},
   "outputs": [
    {
     "name": "stdout",
     "output_type": "stream",
     "text": [
      "Give me your name: Faza\n",
      "Enter your age: 27\n",
      "How many times this message going to be printed?10\n",
      "Hi Faza you are going to be 100 years at 2092\n",
      "Hi Faza you are going to be 100 years at 2092\n",
      "Hi Faza you are going to be 100 years at 2092\n",
      "Hi Faza you are going to be 100 years at 2092\n",
      "Hi Faza you are going to be 100 years at 2092\n",
      "Hi Faza you are going to be 100 years at 2092\n",
      "Hi Faza you are going to be 100 years at 2092\n",
      "Hi Faza you are going to be 100 years at 2092\n",
      "Hi Faza you are going to be 100 years at 2092\n",
      "Hi Faza you are going to be 100 years at 2092\n",
      "\n"
     ]
    }
   ],
   "source": [
    "name = input (\"Give me your name: \")\n",
    "age = int(input(\"Enter your age: \"))\n",
    "lines = int(input(\"How many times this message going to be printed?\"))\n",
    "umur = 2019+100-age\n",
    "kalimat = str('Hi '+ name + ' you are going to be 100 years at ' + str(umur)+'\\n')\n",
    "print (lines * kalimat)"
   ]
  },
  {
   "cell_type": "code",
   "execution_count": 14,
   "metadata": {},
   "outputs": [
    {
     "name": "stdout",
     "output_type": "stream",
     "text": [
      "Give me your name: Faza\n",
      "Enter your age: 24\n",
      "How many times this message going to be printed?10\n",
      "Hi Faza you are going to be 100 years at 2095\n",
      "Hi Faza you are going to be 100 years at 2095\n",
      "Hi Faza you are going to be 100 years at 2095\n",
      "Hi Faza you are going to be 100 years at 2095\n",
      "Hi Faza you are going to be 100 years at 2095\n",
      "Hi Faza you are going to be 100 years at 2095\n",
      "Hi Faza you are going to be 100 years at 2095\n",
      "Hi Faza you are going to be 100 years at 2095\n",
      "Hi Faza you are going to be 100 years at 2095\n",
      "Hi Faza you are going to be 100 years at 2095\n",
      "\n"
     ]
    }
   ],
   "source": [
    "#Asking Name\n",
    "name = input (\"Give me your name: \")\n",
    "#Asking Age\n",
    "age = int(input(\"Enter your age: \"))\n",
    "#Asking How many lines you're going to print\n",
    "lines = int(input(\"How many times this message going to be printed?\"))\n",
    "kalimat = str('Hi '+ name + ' you are going to be 100 years at ' + str(2019+100-age)+'\\n')\n",
    "#Print how many lines\n",
    "print (lines * kalimat)"
   ]
  },
  {
   "cell_type": "code",
   "execution_count": 15,
   "metadata": {},
   "outputs": [
    {
     "name": "stdout",
     "output_type": "stream",
     "text": [
      "Give me your name: Faza\n",
      "Enter your age: 24\n",
      "How many times this message going to be printed?10\n",
      "Hi Faza you are going to be 100 years at 2095\n",
      "Hi Faza you are going to be 100 years at 2095\n",
      "Hi Faza you are going to be 100 years at 2095\n",
      "Hi Faza you are going to be 100 years at 2095\n",
      "Hi Faza you are going to be 100 years at 2095\n",
      "Hi Faza you are going to be 100 years at 2095\n",
      "Hi Faza you are going to be 100 years at 2095\n",
      "Hi Faza you are going to be 100 years at 2095\n",
      "Hi Faza you are going to be 100 years at 2095\n",
      "Hi Faza you are going to be 100 years at 2095\n",
      "\n"
     ]
    }
   ],
   "source": [
    "#Asking Name\n",
    "name = input (\"Give me your name: \")\n",
    "#Asking Age\n",
    "age = int(input(\"Enter your age: \"))\n",
    "#Asking How many lines you're going to print\n",
    "lines = int(input(\"How many times this message going to be printed? \"))\n",
    "kalimat = str('Hi '+ name + ' you are going to be 100 years at ' + str(2019+100-age)+'\\n')\n",
    "#Print how many lines\n",
    "print (lines * kalimat)"
   ]
  },
  {
   "cell_type": "code",
   "execution_count": null,
   "metadata": {},
   "outputs": [],
   "source": []
  }
 ],
 "metadata": {
  "kernelspec": {
   "display_name": "Python 3",
   "language": "python",
   "name": "python3"
  },
  "language_info": {
   "codemirror_mode": {
    "name": "ipython",
    "version": 3
   },
   "file_extension": ".py",
   "mimetype": "text/x-python",
   "name": "python",
   "nbconvert_exporter": "python",
   "pygments_lexer": "ipython3",
   "version": "3.7.1"
  }
 },
 "nbformat": 4,
 "nbformat_minor": 2
}
