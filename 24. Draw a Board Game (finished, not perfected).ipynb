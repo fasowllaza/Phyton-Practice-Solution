{
 "cells": [
  {
   "cell_type": "code",
   "execution_count": 1,
   "metadata": {},
   "outputs": [
    {
     "ename": "SyntaxError",
     "evalue": "invalid syntax (<ipython-input-1-9cdd06856b1f>, line 2)",
     "output_type": "error",
     "traceback": [
      "\u001b[1;36m  File \u001b[1;32m\"<ipython-input-1-9cdd06856b1f>\"\u001b[1;36m, line \u001b[1;32m2\u001b[0m\n\u001b[1;33m    for i in range()\u001b[0m\n\u001b[1;37m                    ^\u001b[0m\n\u001b[1;31mSyntaxError\u001b[0m\u001b[1;31m:\u001b[0m invalid syntax\n"
     ]
    }
   ],
   "source": [
    "#ab = ukuran board ex 3x3, 9x9\n",
    "#cd = lokasi yang mau diisi X (axis)\n",
    "#ef = lokasi yang mau diisi Y (axis)\n",
    "def make_graphic(ab,cd,ef):\n",
    "    for i in range(0,13):\n",
    "        if i == 0:\n",
    "            print('     ---     '*3)\n",
    "        elif i == 4:\n",
    "            print('     ---     '*3)\n",
    "        elif i == 8:\n",
    "            print('     ---     '*3)\n",
    "        elif i == 12:\n",
    "            print('     ---     '*3)\n",
    "    \n",
    "        else:\n",
    "            print('|           |'*3)\n",
    "    "
   ]
  },
  {
   "cell_type": "code",
   "execution_count": 26,
   "metadata": {},
   "outputs": [
    {
     "name": "stdout",
     "output_type": "stream",
     "text": [
      "     ---          ---          ---     \n",
      "|           ||           ||           |\n",
      "|           ||           ||           |\n",
      "|           ||           ||           |\n",
      "     ---          ---          ---     \n",
      "|           ||           ||           |\n",
      "|           ||           ||           |\n",
      "|           ||           ||           |\n",
      "     ---          ---          ---     \n",
      "|           ||           ||           |\n",
      "|           ||           ||           |\n",
      "|           ||           ||           |\n",
      "     ---          ---          ---     \n"
     ]
    }
   ],
   "source": [
    "for i in range(0,13):\n",
    "    if i == 0:\n",
    "        print('     ---     '*3)\n",
    "    elif i == 4:\n",
    "        print('     ---     '*3)\n",
    "    elif i == 8:\n",
    "        print('     ---     '*3)\n",
    "    elif i == 12:\n",
    "        print('     ---     '*3)\n",
    "    \n",
    "    else:\n",
    "        print('|           |'*3)\n",
    "    "
   ]
  },
  {
   "cell_type": "code",
   "execution_count": 6,
   "metadata": {},
   "outputs": [
    {
     "name": "stdout",
     "output_type": "stream",
     "text": [
      "0\n"
     ]
    }
   ],
   "source": []
  },
  {
   "cell_type": "code",
   "execution_count": null,
   "metadata": {},
   "outputs": [],
   "source": []
  }
 ],
 "metadata": {
  "kernelspec": {
   "display_name": "Python 3",
   "language": "python",
   "name": "python3"
  },
  "language_info": {
   "codemirror_mode": {
    "name": "ipython",
    "version": 3
   },
   "file_extension": ".py",
   "mimetype": "text/x-python",
   "name": "python",
   "nbconvert_exporter": "python",
   "pygments_lexer": "ipython3",
   "version": "3.7.1"
  }
 },
 "nbformat": 4,
 "nbformat_minor": 2
}
