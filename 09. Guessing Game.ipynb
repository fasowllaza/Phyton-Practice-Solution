{
 "cells": [
  {
   "cell_type": "code",
   "execution_count": 1,
   "metadata": {},
   "outputs": [
    {
     "name": "stdout",
     "output_type": "stream",
     "text": [
      "Let's play a game\n",
      "Silahkan masukkan angka dari 1 - 9\n",
      "3\n",
      "Kebesaran!!\n",
      "Silahkan masukkan angka dari 1 - 9\n",
      "2\n",
      "Kebesaran!!\n",
      "Silahkan masukkan angka dari 1 - 9\n",
      "1\n",
      "Anda benar!!\n",
      "Apakah anda ingin bermain lagi Y/NY\n",
      "Let's play a game\n",
      "Silahkan masukkan angka dari 1 - 9\n",
      "4\n",
      "Kebesaran!!\n",
      "Silahkan masukkan angka dari 1 - 9\n",
      "6\n",
      "Kebesaran!!\n",
      "Silahkan masukkan angka dari 1 - 9\n",
      "3\n",
      "Anda benar!!\n",
      "Apakah anda ingin bermain lagi Y/NY\n",
      "Let's play a game\n",
      "Silahkan masukkan angka dari 1 - 9\n",
      "6\n",
      "Kebesaran!!\n",
      "Silahkan masukkan angka dari 1 - 9\n",
      "5\n",
      "Kebesaran!!\n",
      "Silahkan masukkan angka dari 1 - 9\n",
      "4\n",
      "Kebesaran!!\n",
      "Silahkan masukkan angka dari 1 - 9\n",
      "3\n",
      "Kebesaran!!\n",
      "Silahkan masukkan angka dari 1 - 9\n",
      "2\n",
      "Anda benar!!\n",
      "Apakah anda ingin bermain lagi Y/NY\n",
      "Let's play a game\n",
      "Silahkan masukkan angka dari 1 - 9\n",
      "9\n",
      "Anda benar!!\n",
      "Apakah anda ingin bermain lagi Y/NN\n"
     ]
    }
   ],
   "source": [
    "import random\n",
    "boolean = True\n",
    "boolean2 = True\n",
    "while boolean:\n",
    "    print('Let\\'s play a game')\n",
    "    random_number = random.randint(1,9)\n",
    "    while boolean2:\n",
    "        number = int(input('Silahkan masukkan angka dari 1 - 9\\n'))\n",
    "        if number == random_number:\n",
    "            print('Anda benar!!')\n",
    "            boolean2 = False\n",
    "        elif number < random_number:\n",
    "            print ('Kekecilan!!')\n",
    "        elif number > random_number:\n",
    "            print ('Kebesaran!!')\n",
    "    newgame = str(input('Apakah anda ingin bermain lagi Y/N\\n'))\n",
    "    if newgame == 'N':\n",
    "        boolean = False\n",
    "    else:\n",
    "        boolean2 = True"
   ]
  },
  {
   "cell_type": "code",
   "execution_count": null,
   "metadata": {},
   "outputs": [],
   "source": []
  }
 ],
 "metadata": {
  "kernelspec": {
   "display_name": "Python 3",
   "language": "python",
   "name": "python3"
  },
  "language_info": {
   "codemirror_mode": {
    "name": "ipython",
    "version": 3
   },
   "file_extension": ".py",
   "mimetype": "text/x-python",
   "name": "python",
   "nbconvert_exporter": "python",
   "pygments_lexer": "ipython3",
   "version": "3.7.1"
  }
 },
 "nbformat": 4,
 "nbformat_minor": 2
}
