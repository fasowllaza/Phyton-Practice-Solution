{
 "cells": [
  {
   "cell_type": "code",
   "execution_count": null,
   "metadata": {},
   "outputs": [],
   "source": [
    "list01 = []\n",
    "boolean = True\n",
    "while boolean: \n",
    "    number = input('Please enter any number, If you are finished please enter no :')\n",
    "    if str(number) == 'no':\n",
    "        boolean = False\n",
    "    elif int(number)%2 == 0:\n",
    "        list01.append(number)\n",
    "print(list01)"
   ]
  },
  {
   "cell_type": "code",
   "execution_count": 11,
   "metadata": {},
   "outputs": [
    {
     "name": "stdout",
     "output_type": "stream",
     "text": [
      "Selamat datang di permainan gunting, batu, kertas\n",
      "Untuk memilih gunting silahkan masukan huruf \"V\"\n",
      "Untuk memilih batu silahkan masukan huruf \"O\"\n",
      "Untuk memilih kertas silahkan masukan huruf \"H\"\n",
      "Player1 silahkan pilih apakah mau memilih gunting, batu, kertas: V\n",
      "Player2 silahkan pilih apakah mau memilih gunting, batu, kertas: V\n",
      "Permainan seri\n",
      "Apakah kamu ingin bermain lagi?\n",
      "Y/NN\n"
     ]
    }
   ],
   "source": [
    "print('Selamat datang di permainan gunting, batu, kertas')\n",
    "print('Untuk memilih gunting silahkan masukan huruf \\\"V\\\"')\n",
    "print('Untuk memilih batu silahkan masukan huruf \\\"O\\\"')\n",
    "print('Untuk memilih kertas silahkan masukan huruf \\\"H\\\"')\n",
    "boolean = True\n",
    "while boolean:\n",
    "    player1 = str(input('Player1 silahkan pilih apakah mau memilih gunting, batu, kertas: '))\n",
    "    player2 = str(input('Player2 silahkan pilih apakah mau memilih gunting, batu, kertas: '))\n",
    "    if player1 == player2:\n",
    "        print('Permainan seri')\n",
    "        \n",
    "    print('Apakah kamu ingin bermain lagi?')\n",
    "    newgame = str(input('Y/N'))\n",
    "    if newgame == 'N':\n",
    "        boolean = False"
   ]
  },
  {
   "cell_type": "code",
   "execution_count": null,
   "metadata": {},
   "outputs": [],
   "source": [
    "print('Selamat datang di permainan gunting, batu, kertas')\n",
    "print('Untuk memilih gunting silahkan masukan huruf \\\"V\\\"')\n",
    "print('Untuk memilih batu silahkan masukan huruf \\\"O\\\"')\n",
    "print('Untuk memilih kertas silahkan masukan huruf \\\"H\\\"')\n",
    "boolean = True\n",
    "while boolean:\n",
    "    player1 = str(input('Player1 silahkan pilih apakah mau memilih gunting, batu, kertas: '))\n",
    "    player2 = str(input('Player2 silahkan pilih apakah mau memilih gunting, batu, kertas: '))\n",
    "    if player1 == player2:\n",
    "        print('Permainan seri')\n",
    "    else:\n",
    "        if player1 == 'V':\n",
    "            if player2 == 'O':\n",
    "                print('Player 2 menang!!')\n",
    "            else:\n",
    "                print('Player 1 menang!!')\n",
    "        elif player1 == 'O':\n",
    "            if player2 == 'V':\n",
    "                print('Player 1 menang!!')\n",
    "            else:\n",
    "                print('Player 2 menang!!')\n",
    "        else:\n",
    "            if player2 == 'O':\n",
    "                print('Player 1 menang!!')\n",
    "            else:\n",
    "                print('Player 2 menang!!')\n",
    "    print('Apakah kamu ingin bermain lagi?')\n",
    "    newgame = str(input('Y/N \\n'))\n",
    "    if newgame == 'N':\n",
    "        boolean = False"
   ]
  },
  {
   "cell_type": "code",
   "execution_count": null,
   "metadata": {},
   "outputs": [],
   "source": []
  }
 ],
 "metadata": {
  "kernelspec": {
   "display_name": "Python 3",
   "language": "python",
   "name": "python3"
  },
  "language_info": {
   "codemirror_mode": {
    "name": "ipython",
    "version": 3
   },
   "file_extension": ".py",
   "mimetype": "text/x-python",
   "name": "python",
   "nbconvert_exporter": "python",
   "pygments_lexer": "ipython3",
   "version": "3.7.1"
  }
 },
 "nbformat": 4,
 "nbformat_minor": 2
}
