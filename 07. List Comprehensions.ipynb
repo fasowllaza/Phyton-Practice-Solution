{
 "cells": [
  {
   "cell_type": "code",
   "execution_count": 5,
   "metadata": {},
   "outputs": [
    {
     "name": "stdout",
     "output_type": "stream",
     "text": [
      "Please enter any number, If you are finished please enter no :1\n",
      "Please enter any number, If you are finished please enter no :2\n",
      "Please enter any number, If you are finished please enter no :3\n",
      "Please enter any number, If you are finished please enter no :4\n",
      "Please enter any number, If you are finished please enter no :5\n",
      "Please enter any number, If you are finished please enter no :6\n",
      "Please enter any number, If you are finished please enter no :7\n",
      "Please enter any number, If you are finished please enter no :8\n",
      "Please enter any number, If you are finished please enter no :9\n",
      "Please enter any number, If you are finished please enter no :10\n",
      "Please enter any number, If you are finished please enter no :no\n",
      "['2', '4', '6', '8', '10']\n"
     ]
    }
   ],
   "source": [
    "list01 = []\n",
    "boolean = True\n",
    "while boolean: \n",
    "    number = input('Please enter any number, If you are finished please enter no :')\n",
    "    if str(number) == 'no':\n",
    "        boolean = False\n",
    "    elif int(number)%2 == 0:\n",
    "        list01.append(number)\n",
    "print(list01)"
   ]
  },
  {
   "cell_type": "code",
   "execution_count": 6,
   "metadata": {},
   "outputs": [
    {
     "name": "stdout",
     "output_type": "stream",
     "text": [
      "silahkan masukkan apa saja12\n"
     ]
    }
   ],
   "source": [
    "ab = input('silahkan masukkan apa saja')"
   ]
  },
  {
   "cell_type": "code",
   "execution_count": 7,
   "metadata": {},
   "outputs": [
    {
     "name": "stdout",
     "output_type": "stream",
     "text": [
      "silahkan masukkan nomor yang anda sukaas\n"
     ]
    }
   ],
   "source": [
    "player1 = input('silahkan masukkan nomor yang anda suka')"
   ]
  },
  {
   "cell_type": "code",
   "execution_count": 8,
   "metadata": {},
   "outputs": [
    {
     "name": "stdout",
     "output_type": "stream",
     "text": [
      "Selamat datang di permainan gunting, batu, kertas\n",
      "Untuk memilih gunting silahkan masukan huruf \"V\"\n",
      "Untuk memilih batu silahkan masukan huruf \"O\"\n",
      "Untuk memilih kertas silahkan masukan huruf \"H\"\n"
     ]
    },
    {
     "ename": "NameError",
     "evalue": "name 'true' is not defined",
     "output_type": "error",
     "traceback": [
      "\u001b[1;31m---------------------------------------------------------------------------\u001b[0m",
      "\u001b[1;31mNameError\u001b[0m                                 Traceback (most recent call last)",
      "\u001b[1;32m<ipython-input-8-a5aa8a831d98>\u001b[0m in \u001b[0;36m<module>\u001b[1;34m\u001b[0m\n\u001b[0;32m      3\u001b[0m \u001b[0mprint\u001b[0m\u001b[1;33m(\u001b[0m\u001b[1;34m'Untuk memilih batu silahkan masukan huruf \\\"O\\\"'\u001b[0m\u001b[1;33m)\u001b[0m\u001b[1;33m\u001b[0m\u001b[1;33m\u001b[0m\u001b[0m\n\u001b[0;32m      4\u001b[0m \u001b[0mprint\u001b[0m\u001b[1;33m(\u001b[0m\u001b[1;34m'Untuk memilih kertas silahkan masukan huruf \\\"H\\\"'\u001b[0m\u001b[1;33m)\u001b[0m\u001b[1;33m\u001b[0m\u001b[1;33m\u001b[0m\u001b[0m\n\u001b[1;32m----> 5\u001b[1;33m \u001b[0mboolean\u001b[0m \u001b[1;33m=\u001b[0m \u001b[0mtrue\u001b[0m\u001b[1;33m\u001b[0m\u001b[1;33m\u001b[0m\u001b[0m\n\u001b[0m\u001b[0;32m      6\u001b[0m \u001b[1;32mwhile\u001b[0m \u001b[0mboolean\u001b[0m\u001b[1;33m:\u001b[0m\u001b[1;33m\u001b[0m\u001b[1;33m\u001b[0m\u001b[0m\n\u001b[0;32m      7\u001b[0m     \u001b[0mplayer1\u001b[0m \u001b[1;33m=\u001b[0m \u001b[0mstr\u001b[0m\u001b[1;33m(\u001b[0m\u001b[0minput\u001b[0m\u001b[1;33m(\u001b[0m\u001b[1;34m'Player1 silahkan pilih apakah mau memilih gunting, batu, kertas: '\u001b[0m\u001b[1;33m)\u001b[0m\u001b[1;33m)\u001b[0m\u001b[1;33m\u001b[0m\u001b[1;33m\u001b[0m\u001b[0m\n",
      "\u001b[1;31mNameError\u001b[0m: name 'true' is not defined"
     ]
    }
   ],
   "source": [
    "print('Selamat datang di permainan gunting, batu, kertas')\n",
    "print('Untuk memilih gunting silahkan masukan huruf \\\"V\\\"')\n",
    "print('Untuk memilih batu silahkan masukan huruf \\\"O\\\"')\n",
    "print('Untuk memilih kertas silahkan masukan huruf \\\"H\\\"')\n",
    "boolean = true\n",
    "while boolean:\n",
    "    player1 = str(input('Player1 silahkan pilih apakah mau memilih gunting, batu, kertas: '))\n",
    "    Player2 = str(input('Player2 silahkan pilih apakah mau memilih gunting, batu, kertas: '))\n",
    "    if player1 == player2:\n",
    "        print('Permainan seri')\n",
    "    "
   ]
  },
  {
   "cell_type": "code",
   "execution_count": 9,
   "metadata": {},
   "outputs": [
    {
     "name": "stdout",
     "output_type": "stream",
     "text": [
      "Selamat datang di permainan gunting, batu, kertas\n",
      "Untuk memilih gunting silahkan masukan huruf \"V\"\n",
      "Untuk memilih batu silahkan masukan huruf \"O\"\n",
      "Untuk memilih kertas silahkan masukan huruf \"H\"\n",
      "Player1 silahkan pilih apakah mau memilih gunting, batu, kertas: V\n",
      "Player2 silahkan pilih apakah mau memilih gunting, batu, kertas: V\n"
     ]
    },
    {
     "ename": "NameError",
     "evalue": "name 'player2' is not defined",
     "output_type": "error",
     "traceback": [
      "\u001b[1;31m---------------------------------------------------------------------------\u001b[0m",
      "\u001b[1;31mNameError\u001b[0m                                 Traceback (most recent call last)",
      "\u001b[1;32m<ipython-input-9-2d5988c3bad4>\u001b[0m in \u001b[0;36m<module>\u001b[1;34m\u001b[0m\n\u001b[0;32m      7\u001b[0m     \u001b[0mplayer1\u001b[0m \u001b[1;33m=\u001b[0m \u001b[0mstr\u001b[0m\u001b[1;33m(\u001b[0m\u001b[0minput\u001b[0m\u001b[1;33m(\u001b[0m\u001b[1;34m'Player1 silahkan pilih apakah mau memilih gunting, batu, kertas: '\u001b[0m\u001b[1;33m)\u001b[0m\u001b[1;33m)\u001b[0m\u001b[1;33m\u001b[0m\u001b[1;33m\u001b[0m\u001b[0m\n\u001b[0;32m      8\u001b[0m     \u001b[0mPlayer2\u001b[0m \u001b[1;33m=\u001b[0m \u001b[0mstr\u001b[0m\u001b[1;33m(\u001b[0m\u001b[0minput\u001b[0m\u001b[1;33m(\u001b[0m\u001b[1;34m'Player2 silahkan pilih apakah mau memilih gunting, batu, kertas: '\u001b[0m\u001b[1;33m)\u001b[0m\u001b[1;33m)\u001b[0m\u001b[1;33m\u001b[0m\u001b[1;33m\u001b[0m\u001b[0m\n\u001b[1;32m----> 9\u001b[1;33m     \u001b[1;32mif\u001b[0m \u001b[0mplayer1\u001b[0m \u001b[1;33m==\u001b[0m \u001b[0mplayer2\u001b[0m\u001b[1;33m:\u001b[0m\u001b[1;33m\u001b[0m\u001b[1;33m\u001b[0m\u001b[0m\n\u001b[0m\u001b[0;32m     10\u001b[0m         \u001b[0mprint\u001b[0m\u001b[1;33m(\u001b[0m\u001b[1;34m'Permainan seri'\u001b[0m\u001b[1;33m)\u001b[0m\u001b[1;33m\u001b[0m\u001b[1;33m\u001b[0m\u001b[0m\n\u001b[0;32m     11\u001b[0m \u001b[1;33m\u001b[0m\u001b[0m\n",
      "\u001b[1;31mNameError\u001b[0m: name 'player2' is not defined"
     ]
    }
   ],
   "source": [
    "print('Selamat datang di permainan gunting, batu, kertas')\n",
    "print('Untuk memilih gunting silahkan masukan huruf \\\"V\\\"')\n",
    "print('Untuk memilih batu silahkan masukan huruf \\\"O\\\"')\n",
    "print('Untuk memilih kertas silahkan masukan huruf \\\"H\\\"')\n",
    "boolean = True\n",
    "while boolean:\n",
    "    player1 = str(input('Player1 silahkan pilih apakah mau memilih gunting, batu, kertas: '))\n",
    "    Player2 = str(input('Player2 silahkan pilih apakah mau memilih gunting, batu, kertas: '))\n",
    "    if player1 == player2:\n",
    "        print('Permainan seri')\n",
    "    "
   ]
  },
  {
   "cell_type": "code",
   "execution_count": 11,
   "metadata": {},
   "outputs": [
    {
     "name": "stdout",
     "output_type": "stream",
     "text": [
      "Selamat datang di permainan gunting, batu, kertas\n",
      "Untuk memilih gunting silahkan masukan huruf \"V\"\n",
      "Untuk memilih batu silahkan masukan huruf \"O\"\n",
      "Untuk memilih kertas silahkan masukan huruf \"H\"\n",
      "Player1 silahkan pilih apakah mau memilih gunting, batu, kertas: V\n",
      "Player2 silahkan pilih apakah mau memilih gunting, batu, kertas: V\n",
      "Permainan seri\n",
      "Apakah kamu ingin bermain lagi?\n",
      "Y/NN\n"
     ]
    }
   ],
   "source": [
    "print('Selamat datang di permainan gunting, batu, kertas')\n",
    "print('Untuk memilih gunting silahkan masukan huruf \\\"V\\\"')\n",
    "print('Untuk memilih batu silahkan masukan huruf \\\"O\\\"')\n",
    "print('Untuk memilih kertas silahkan masukan huruf \\\"H\\\"')\n",
    "boolean = True\n",
    "while boolean:\n",
    "    player1 = str(input('Player1 silahkan pilih apakah mau memilih gunting, batu, kertas: '))\n",
    "    player2 = str(input('Player2 silahkan pilih apakah mau memilih gunting, batu, kertas: '))\n",
    "    if player1 == player2:\n",
    "        print('Permainan seri')\n",
    "        \n",
    "    print('Apakah kamu ingin bermain lagi?')\n",
    "    newgame = str(input('Y/N'))\n",
    "    if newgame == 'N':\n",
    "        boolean = False"
   ]
  },
  {
   "cell_type": "code",
   "execution_count": null,
   "metadata": {},
   "outputs": [],
   "source": [
    "print('Selamat datang di permainan gunting, batu, kertas')\n",
    "print('Untuk memilih gunting silahkan masukan huruf \\\"V\\\"')\n",
    "print('Untuk memilih batu silahkan masukan huruf \\\"O\\\"')\n",
    "print('Untuk memilih kertas silahkan masukan huruf \\\"H\\\"')\n",
    "boolean = True\n",
    "while boolean:\n",
    "    player1 = str(input('Player1 silahkan pilih apakah mau memilih gunting, batu, kertas: '))\n",
    "    player2 = str(input('Player2 silahkan pilih apakah mau memilih gunting, batu, kertas: '))\n",
    "    if player1 == player2:\n",
    "        print('Permainan seri')\n",
    "    else:\n",
    "        if player1 == 'V':\n",
    "            if player2 == 'O':\n",
    "                print('Player 2 menang!!')\n",
    "            else:\n",
    "                print('Player 1 menang!!')\n",
    "        elif player1 == 'O':\n",
    "            if player2 == 'V':\n",
    "                print('Player 1 menang!!')\n",
    "            else:\n",
    "                print('Player 2 menang!!')\n",
    "        else:\n",
    "            if player2 == 'O':\n",
    "                print('Player 1 menang!!')\n",
    "            else:\n",
    "                print('Player 2 menang!!')\n",
    "    print('Apakah kamu ingin bermain lagi?')\n",
    "    newgame = str(input('Y/N \\n'))\n",
    "    if newgame == 'N':\n",
    "        boolean = False"
   ]
  },
  {
   "cell_type": "code",
   "execution_count": null,
   "metadata": {},
   "outputs": [],
   "source": []
  }
 ],
 "metadata": {
  "kernelspec": {
   "display_name": "Python 3",
   "language": "python",
   "name": "python3"
  },
  "language_info": {
   "codemirror_mode": {
    "name": "ipython",
    "version": 3
   },
   "file_extension": ".py",
   "mimetype": "text/x-python",
   "name": "python",
   "nbconvert_exporter": "python",
   "pygments_lexer": "ipython3",
   "version": "3.7.1"
  }
 },
 "nbformat": 4,
 "nbformat_minor": 2
}
