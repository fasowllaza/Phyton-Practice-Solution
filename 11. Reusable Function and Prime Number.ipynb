{
 "cells": [
  {
   "cell_type": "code",
   "execution_count": null,
   "metadata": {},
   "outputs": [
    {
     "name": "stdout",
     "output_type": "stream",
     "text": [
      "Masukkan angka yang ingin anda cek: 17\n",
      "ini angka prima\n",
      "Masukkan angka yang ingin anda cek: 19\n",
      "ini angka prima\n",
      "Masukkan angka yang ingin anda cek: 10\n",
      "ini bukan angkat prima\n",
      "Masukkan angka yang ingin anda cek: 100\n",
      "ini bukan angkat prima\n",
      "Masukkan angka yang ingin anda cek: 99\n",
      "ini bukan angkat prima\n",
      "Masukkan angka yang ingin anda cek: 97\n",
      "ini angka prima\n"
     ]
    }
   ],
   "source": [
    "def get_number():\n",
    "    return(int(input('Masukkan angka yang ingin anda cek: ')))\n",
    "def angka_prima():\n",
    "    return print('ini angka prima')\n",
    "def not_prima():\n",
    "    return print('ini bukan angkat prima')\n",
    "    \n",
    "boolean = True\n",
    "while boolean:\n",
    "    angka = get_number()\n",
    "    if angka%2 == 1:\n",
    "        if angka%3 ==2 or angka%3 ==1:\n",
    "                angka_prima()\n",
    "        else:\n",
    "            not_prima()\n",
    "    else:\n",
    "        not_prima()\n"
   ]
  },
  {
   "cell_type": "code",
   "execution_count": null,
   "metadata": {},
   "outputs": [],
   "source": []
  }
 ],
 "metadata": {
  "kernelspec": {
   "display_name": "Python 3",
   "language": "python",
   "name": "python3"
  },
  "language_info": {
   "codemirror_mode": {
    "name": "ipython",
    "version": 3
   },
   "file_extension": ".py",
   "mimetype": "text/x-python",
   "name": "python",
   "nbconvert_exporter": "python",
   "pygments_lexer": "ipython3",
   "version": "3.7.1"
  }
 },
 "nbformat": 4,
 "nbformat_minor": 2
}
