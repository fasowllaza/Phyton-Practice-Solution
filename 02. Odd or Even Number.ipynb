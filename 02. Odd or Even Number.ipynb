{
 "cells": [
  {
   "cell_type": "code",
   "execution_count": 1,
   "metadata": {},
   "outputs": [
    {
     "name": "stdout",
     "output_type": "stream",
     "text": [
      "Please enter a number: 10\n",
      "This is an even number\n"
     ]
    }
   ],
   "source": [
    "#Asking for number\n",
    "number = int(input('Please enter a number: '))\n",
    "checking = number%2\n",
    "if checking == 0:\n",
    "    print('This is an even number')\n",
    "else:\n",
    "    print ('This is odd number')"
   ]
  },
  {
   "cell_type": "code",
   "execution_count": 2,
   "metadata": {},
   "outputs": [
    {
     "ename": "IndentationError",
     "evalue": "expected an indented block (<ipython-input-2-19a71d834d90>, line 12)",
     "output_type": "error",
     "traceback": [
      "\u001b[1;36m  File \u001b[1;32m\"<ipython-input-2-19a71d834d90>\"\u001b[1;36m, line \u001b[1;32m12\u001b[0m\n\u001b[1;33m    print ('This is odd number')\u001b[0m\n\u001b[1;37m        ^\u001b[0m\n\u001b[1;31mIndentationError\u001b[0m\u001b[1;31m:\u001b[0m expected an indented block\n"
     ]
    }
   ],
   "source": [
    "#Asking for number\n",
    "number = int(input('Please enter a number: '))\n",
    "#Checking if this number able to divided by 4\n",
    "checking = number %4\n",
    "if checking == 0:\n",
    "    print('This is a secret number')\n",
    "else:\n",
    "    checking = number%2\n",
    "    if checking == 0:\n",
    "        print('This is an even number')\n",
    "    else:\n",
    " "
   ]
  },
  {
   "cell_type": "code",
   "execution_count": 7,
   "metadata": {},
   "outputs": [
    {
     "name": "stdout",
     "output_type": "stream",
     "text": [
      "Please enter a number: 12\n",
      "This is a secret number\n"
     ]
    }
   ],
   "source": [
    "#Asking for number\n",
    "number = int(input('Please enter a number: '))\n",
    "#Checking if this number able to divided by 4\n",
    "checking = number %4\n",
    "if checking == 0:\n",
    "    print('This is a secret number')\n",
    "else:\n",
    "    checking = number%2\n",
    "    if checking == 0:\n",
    "        print('This is an even number')\n",
    "    else:\n",
    "        print('This is odd number')"
   ]
  },
  {
   "cell_type": "code",
   "execution_count": null,
   "metadata": {},
   "outputs": [],
   "source": []
  }
 ],
 "metadata": {
  "kernelspec": {
   "display_name": "Python 3",
   "language": "python",
   "name": "python3"
  },
  "language_info": {
   "codemirror_mode": {
    "name": "ipython",
    "version": 3
   },
   "file_extension": ".py",
   "mimetype": "text/x-python",
   "name": "python",
   "nbconvert_exporter": "python",
   "pygments_lexer": "ipython3",
   "version": "3.7.1"
  }
 },
 "nbformat": 4,
 "nbformat_minor": 2
}
