{
 "cells": [
  {
   "cell_type": "code",
   "execution_count": null,
   "metadata": {},
   "outputs": [],
   "source": [
    "#Asking for number\n",
    "number = int(input('Please enter a number: '))\n",
    "#Checking if this number able to divided by 4\n",
    "checking = number %4\n",
    "if checking == 0:\n",
    "    print('This is a secret number')\n",
    "else:\n",
    "    checking = number%2\n",
    "    if checking == 0:\n",
    "        print('This is an even number')\n",
    "    else:\n",
    "        print('This is odd number')"
   ]
  }
 ],
 "metadata": {
  "kernelspec": {
   "display_name": "Python 3",
   "language": "python",
   "name": "python3"
  },
  "language_info": {
   "codemirror_mode": {
    "name": "ipython",
    "version": 3
   },
   "file_extension": ".py",
   "mimetype": "text/x-python",
   "name": "python",
   "nbconvert_exporter": "python",
   "pygments_lexer": "ipython3",
   "version": "3.7.1"
  }
 },
 "nbformat": 4,
 "nbformat_minor": 2
}
